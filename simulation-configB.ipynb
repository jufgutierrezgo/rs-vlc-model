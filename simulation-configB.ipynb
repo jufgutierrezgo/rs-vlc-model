{
 "cells": [
  {
   "attachments": {},
   "cell_type": "markdown",
   "metadata": {},
   "source": [
    "# SIMULATION OF NLOS-VLC SYSTEM USING THE ROLLING SHUTTER MECHANISM"
   ]
  },
  {
   "attachments": {},
   "cell_type": "markdown",
   "metadata": {},
   "source": [
    "### Import the transmitter, surface and camera objects, as well as numpy library."
   ]
  },
  {
   "cell_type": "code",
   "execution_count": null,
   "metadata": {},
   "outputs": [],
   "source": [
    "#Import module Transmitter\n",
    "from transmitter import Transmitter as Transmitter\n",
    "\n",
    "from surface import Surface as Surface\n",
    "\n",
    "from camera import Camera as Camera\n",
    "\n",
    "from rollingshutter import RollingShutter as RS\n",
    "\n",
    "import numpy as np\n"
   ]
  },
  {
   "attachments": {},
   "cell_type": "markdown",
   "metadata": {},
   "source": [
    "### The trasmitter is defined as a Trasmitter type object from nine input parameters\n"
   ]
  },
  {
   "cell_type": "code",
   "execution_count": null,
   "metadata": {},
   "outputs": [],
   "source": [
    "transmitter = Transmitter(\n",
    "        \"Led1\",\n",
    "        position=[0, 0, 2],\n",
    "        normal=[0, 1, -1],\n",
    "        mlambert=1,\n",
    "        wavelengths=[620, 530, 475],\n",
    "        fwhm=[20, 30, 20],\n",
    "        modulation='ieee16',\n",
    "        frequency=2000,\n",
    "        no_symbols=1000,\n",
    "        luminous_flux=1000\n",
    "    )\n",
    "# transmitter.plot_spd_normalized()\n",
    "# transmitter.plot_spd_at_1lm()\n",
    "# transmitter.plot_led_pattern()\n",
    "print(transmitter)"
   ]
  },
  {
   "attachments": {},
   "cell_type": "markdown",
   "metadata": {},
   "source": [
    "### The surface is defined from eight imputs parametes"
   ]
  },
  {
   "cell_type": "code",
   "execution_count": null,
   "metadata": {},
   "outputs": [],
   "source": [
    "surface = Surface(\n",
    "    name=\"surfacePlaster\",\n",
    "    position=[0, 2, 0],\n",
    "    reflectance='plaster',\n",
    "    vertex1=[-1/10, 0, -1/10],\n",
    "    vertex2=[1/10, 0, -1/10],\n",
    "    vertex3=[1/10, 0, 1/10],\n",
    "    vertex4=[-1/10, 0, 1/10]\n",
    "    )\n",
    "# surface.plot_reflectance()\n",
    "surface._group_vertices()\n",
    "print(surface)"
   ]
  },
  {
   "attachments": {},
   "cell_type": "markdown",
   "metadata": {},
   "source": [
    "### The camera is defined from a set of 13 input parameters"
   ]
  },
  {
   "cell_type": "code",
   "execution_count": null,
   "metadata": {},
   "outputs": [],
   "source": [
    "PIXEL_SIZE = 1.12e-6\n",
    "MX = 1/PIXEL_SIZE  # number of pixels per unit distance in image coordinates in x direction\n",
    "MY = 1/PIXEL_SIZE  # number of pixels per unit distance in image coordinates in y direction\n",
    "FOCAL_LENGTH = 3e-3  # focal length\n",
    "THETA_X = np.pi / 2.0  # roll angle\n",
    "THETA_Y = np.pi  # pitch angle\n",
    "THETA_Z = np.pi  # yaw angle\n",
    "C = np.array([0, 1, 0])  # camera centre\n",
    "IMAGE_WIDTH = 1200\n",
    "IMAGE_HEIGTH = 800\n",
    "PX= IMAGE_WIDTH/(2*MX)  # principal point x-coordinate\n",
    "PY= IMAGE_HEIGTH/(2*MY)  # principal point y-coordinate\n",
    "\n",
    "camera = Camera(\n",
    "    name=\"camera1\",\n",
    "    focal_length=FOCAL_LENGTH,\n",
    "    pixel_size=1/MX,\n",
    "    px=PX,\n",
    "    py=PY,\n",
    "    mx=MX,\n",
    "    my=MY,\n",
    "    theta_x=THETA_X,\n",
    "    theta_y=THETA_Y,\n",
    "    theta_z=THETA_Z,\n",
    "    centre=C,\n",
    "    image_height=IMAGE_HEIGTH,\n",
    "    image_width=IMAGE_WIDTH,    \n",
    "    surface=surface,\n",
    "    transmitter=transmitter,\n",
    "    sensor='SonyStarvisBSI'\n",
    "    )\n",
    "camera.plot_responsivity()\n",
    "camera.plot_image_intensity()\n",
    "\n"
   ]
  },
  {
   "attachments": {},
   "cell_type": "markdown",
   "metadata": {},
   "source": [
    "### The Rolling Shutter module is added."
   ]
  },
  {
   "cell_type": "code",
   "execution_count": null,
   "metadata": {},
   "outputs": [],
   "source": [
    "# Library to plot \n",
    "import matplotlib.pyplot as plt\n",
    "\n",
    "camera.idark = 1.9e-23\n",
    "\n",
    "rollingshutter = RS(\n",
    "    name=\"rs\",\n",
    "    t_exposure=85e-6,\n",
    "    t_rowdelay=18.904e-6,\n",
    "    t_start=0,\n",
    "    iso=200,\n",
    "    adc_resolution=8,\n",
    "    gain_pixel=13e20,\n",
    "    temperature=298,\n",
    "    transmitter=transmitter,\n",
    "    camera=camera\n",
    ")\n",
    "\n",
    "rollingshutter.plot_color_image()\n",
    "rollingshutter.add_blur(size=11, center=5.5, sigma=10.5)\n",
    "rollingshutter.plot_blurred_image()\n",
    "\n",
    "\n"
   ]
  },
  {
   "attachments": {},
   "cell_type": "markdown",
   "metadata": {},
   "source": []
  }
 ],
 "metadata": {
  "kernelspec": {
   "display_name": "base",
   "language": "python",
   "name": "python3"
  },
  "language_info": {
   "codemirror_mode": {
    "name": "ipython",
    "version": 3
   },
   "file_extension": ".py",
   "mimetype": "text/x-python",
   "name": "python",
   "nbconvert_exporter": "python",
   "pygments_lexer": "ipython3",
   "version": "3.8.10"
  },
  "orig_nbformat": 4
 },
 "nbformat": 4,
 "nbformat_minor": 2
}
