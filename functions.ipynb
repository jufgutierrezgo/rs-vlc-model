{
 "cells": [
  {
   "attachments": {},
   "cell_type": "markdown",
   "metadata": {},
   "source": [
    "## Vertices of a rectangle"
   ]
  },
  {
   "cell_type": "code",
   "execution_count": 16,
   "metadata": {},
   "outputs": [
    {
     "name": "stdout",
     "output_type": "stream",
     "text": [
      "[0. 2. 1.] [0. 2. 0.] [0. 0. 0.] [0. 0. 1.]\n"
     ]
    }
   ],
   "source": [
    "# This code computes the vertices of a rectangle given a normal vector to the plane and one point on the plane\n",
    "\n",
    "import numpy as np\n",
    "\n",
    "# Define the normal vector and a point on the plane\n",
    "normal = np.array([1, 0, 0])\n",
    "point_on_plane = np.array([0, 0, 0])\n",
    "\n",
    "# Normalize the normal vector\n",
    "normal = normal / np.linalg.norm(normal)\n",
    "\n",
    "# Compute two orthogonal vectors that lie on the plane\n",
    "v1 = np.array([0, 1, 0])\n",
    "v2 = np.cross(normal, v1)\n",
    "v2 /= np.linalg.norm(v2)\n",
    "v1 = np.cross(v2, normal)\n",
    "\n",
    "# Define the length and width of the rectangle\n",
    "length = 2\n",
    "width = 1\n",
    "\n",
    "# Compute the half-length and half-width\n",
    "half_length = length / 2\n",
    "half_width = width / 2\n",
    "\n",
    "# Compute the center point of the rectangle\n",
    "center = point_on_plane + half_length * v1 + half_width * v2\n",
    "\n",
    "# Compute the vertices of the rectangle\n",
    "vertex1 = center + half_length * v1 + half_width * v2\n",
    "vertex2 = center + half_length * v1 - half_width * v2\n",
    "vertex3 = center - half_length * v1 - half_width * v2\n",
    "vertex4 = center - half_length * v1 + half_width * v2\n",
    "\n",
    "print(vertex1, vertex2, vertex3, vertex4)\n"
   ]
  },
  {
   "attachments": {},
   "cell_type": "markdown",
   "metadata": {},
   "source": [
    "## Discretization"
   ]
  },
  {
   "cell_type": "code",
   "execution_count": 17,
   "metadata": {},
   "outputs": [
    {
     "name": "stdout",
     "output_type": "stream",
     "text": [
      "[[[1. 1.]\n",
      "  [3. 1.]\n",
      "  [5. 1.]\n",
      "  [7. 1.]\n",
      "  [9. 1.]]\n",
      "\n",
      " [[1. 3.]\n",
      "  [3. 3.]\n",
      "  [5. 3.]\n",
      "  [7. 3.]\n",
      "  [9. 3.]]\n",
      "\n",
      " [[1. 5.]\n",
      "  [3. 5.]\n",
      "  [5. 5.]\n",
      "  [7. 5.]\n",
      "  [9. 5.]]\n",
      "\n",
      " [[1. 7.]\n",
      "  [3. 7.]\n",
      "  [5. 7.]\n",
      "  [7. 7.]\n",
      "  [9. 7.]]\n",
      "\n",
      " [[1. 9.]\n",
      "  [3. 9.]\n",
      "  [5. 9.]\n",
      "  [7. 9.]\n",
      "  [9. 9.]]]\n"
     ]
    }
   ],
   "source": [
    "import numpy as np\n",
    "\n",
    "# Define the size of the continuous plane\n",
    "width = 10\n",
    "height = 10\n",
    "\n",
    "# Define the size of the grid of cells\n",
    "n_cells_x = 5\n",
    "n_cells_y = 5\n",
    "\n",
    "# Compute the size of each cell\n",
    "cell_size_x = width / n_cells_x\n",
    "cell_size_y = height / n_cells_y\n",
    "\n",
    "# Create a grid of cell centers\n",
    "cell_centers_x = np.linspace(cell_size_x/2, width-cell_size_x/2, n_cells_x)\n",
    "cell_centers_y = np.linspace(cell_size_y/2, height-cell_size_y/2, n_cells_y)\n",
    "cell_centers = np.meshgrid(cell_centers_x, cell_centers_y)\n",
    "cell_centers = np.stack(cell_centers, axis=-1)\n",
    "\n",
    "# Display the cell centers\n",
    "print(cell_centers)\n"
   ]
  },
  {
   "attachments": {},
   "cell_type": "markdown",
   "metadata": {},
   "source": [
    "## Point inside of polygon"
   ]
  },
  {
   "cell_type": "code",
   "execution_count": 18,
   "metadata": {},
   "outputs": [
    {
     "data": {
      "image/png": "[encoded data removed]",
      "text/plain": [
       "<Figure size 432x288 with 1 Axes>"
      ]
     },
     "metadata": {
      "needs_background": "light"
     },
     "output_type": "display_data"
    }
   ],
   "source": [
    "import numpy as np\n",
    "import matplotlib.pyplot as plt\n",
    "\n",
    "def point_inside_polygon(x, y, poly):\n",
    "    \"\"\"Return True if the point x, y is inside the polygon defined by the list of vertices poly.\"\"\"\n",
    "    n = len(poly)\n",
    "    inside = False\n",
    "\n",
    "    p1x, p1y = poly[0]\n",
    "    for i in range(n+1):\n",
    "        p2x, p2y = poly[i % n]\n",
    "        if y > min(p1y, p2y):\n",
    "            if y <= max(p1y, p2y):\n",
    "                if x <= max(p1x, p2x):\n",
    "                    if p1y != p2y:\n",
    "                        x_inters = (y - p1y) * (p2x - p1x) / (p2y - p1y) + p1x\n",
    "                    if p1x == p2x or x <= x_inters:\n",
    "                        inside = not inside\n",
    "        p1x, p1y = p2x, p2y\n",
    "\n",
    "    return inside\n",
    "\n",
    "# Define polygon vertices\n",
    "poly_vertices = np.array([[20, 20], [20, 40], [40, 40], [40, 20]])\n",
    "\n",
    "# Define meshgrid\n",
    "x = np.arange(0, 60)\n",
    "y = np.arange(0, 40)\n",
    "xx, yy = np.meshgrid(x, y)\n",
    "\n",
    "# Get points inside polygon\n",
    "points_inside = []\n",
    "for i in range(len(x)):\n",
    "    for j in range(len(y)):\n",
    "        if point_inside_polygon(xx[j,i], yy[j,i], poly_vertices):\n",
    "            points_inside.append([xx[j,i], yy[j,i]])\n",
    "\n",
    "points_inside = np.array(points_inside)\n",
    "# print(points_inside)\n",
    "\n",
    "plt.scatter(points_inside[:,0],points_inside[:,1])\n",
    "plt.show()"
   ]
  },
  {
   "attachments": {},
   "cell_type": "markdown",
   "metadata": {},
   "source": [
    "## CODE FOR PROJECTIING A 2D MESHGRID POINT ONTO A 3D PLANE"
   ]
  },
  {
   "cell_type": "code",
   "execution_count": 19,
   "metadata": {},
   "outputs": [
    {
     "ename": "LinAlgError",
     "evalue": "Last 2 dimensions of the array must be square",
     "output_type": "error",
     "traceback": [
      "\u001b[0;31m---------------------------------------------------------------------------\u001b[0m",
      "\u001b[0;31mLinAlgError\u001b[0m                               Traceback (most recent call last)",
      "\u001b[0;32m/tmp/ipykernel_39472/2407658727.py\u001b[0m in \u001b[0;36m<module>\u001b[0;34m\u001b[0m\n\u001b[1;32m     25\u001b[0m \u001b[0;31m# Project 2D meshgrid onto 3D plane\u001b[0m\u001b[0;34m\u001b[0m\u001b[0;34m\u001b[0m\u001b[0;34m\u001b[0m\u001b[0m\n\u001b[1;32m     26\u001b[0m \u001b[0mpoints_2d\u001b[0m \u001b[0;34m=\u001b[0m \u001b[0mnp\u001b[0m\u001b[0;34m.\u001b[0m\u001b[0mvstack\u001b[0m\u001b[0;34m(\u001b[0m\u001b[0;34m(\u001b[0m\u001b[0mX\u001b[0m\u001b[0;34m.\u001b[0m\u001b[0mflatten\u001b[0m\u001b[0;34m(\u001b[0m\u001b[0;34m)\u001b[0m\u001b[0;34m,\u001b[0m \u001b[0mY\u001b[0m\u001b[0;34m.\u001b[0m\u001b[0mflatten\u001b[0m\u001b[0;34m(\u001b[0m\u001b[0;34m)\u001b[0m\u001b[0;34m,\u001b[0m \u001b[0mnp\u001b[0m\u001b[0;34m.\u001b[0m\u001b[0mones\u001b[0m\u001b[0;34m(\u001b[0m\u001b[0mX\u001b[0m\u001b[0;34m.\u001b[0m\u001b[0msize\u001b[0m\u001b[0;34m)\u001b[0m\u001b[0;34m)\u001b[0m\u001b[0;34m)\u001b[0m\u001b[0;34m\u001b[0m\u001b[0;34m\u001b[0m\u001b[0m\n\u001b[0;32m---> 27\u001b[0;31m \u001b[0mpoints_3d\u001b[0m \u001b[0;34m=\u001b[0m \u001b[0mnp\u001b[0m\u001b[0;34m.\u001b[0m\u001b[0mdot\u001b[0m\u001b[0;34m(\u001b[0m\u001b[0mnp\u001b[0m\u001b[0;34m.\u001b[0m\u001b[0mlinalg\u001b[0m\u001b[0;34m.\u001b[0m\u001b[0minv\u001b[0m\u001b[0;34m(\u001b[0m\u001b[0mP\u001b[0m\u001b[0;34m)\u001b[0m\u001b[0;34m,\u001b[0m \u001b[0mpoints_2d\u001b[0m\u001b[0;34m)\u001b[0m\u001b[0;34m\u001b[0m\u001b[0;34m\u001b[0m\u001b[0m\n\u001b[0m\u001b[1;32m     28\u001b[0m \u001b[0mt\u001b[0m \u001b[0;34m=\u001b[0m \u001b[0;34m-\u001b[0m\u001b[0;34m(\u001b[0m\u001b[0mplane_normal\u001b[0m\u001b[0;34m.\u001b[0m\u001b[0mdot\u001b[0m\u001b[0;34m(\u001b[0m\u001b[0mplane_point\u001b[0m\u001b[0;34m)\u001b[0m\u001b[0;34m)\u001b[0m\u001b[0;34m\u001b[0m\u001b[0;34m\u001b[0m\u001b[0m\n\u001b[1;32m     29\u001b[0m \u001b[0md\u001b[0m \u001b[0;34m=\u001b[0m \u001b[0;34m(\u001b[0m\u001b[0mplane_normal\u001b[0m\u001b[0;34m.\u001b[0m\u001b[0mdot\u001b[0m\u001b[0;34m(\u001b[0m\u001b[0mpoints_3d\u001b[0m\u001b[0;34m)\u001b[0m \u001b[0;34m+\u001b[0m \u001b[0mt\u001b[0m\u001b[0;34m)\u001b[0m \u001b[0;34m/\u001b[0m \u001b[0mplane_normal\u001b[0m\u001b[0;34m.\u001b[0m\u001b[0mdot\u001b[0m\u001b[0;34m(\u001b[0m\u001b[0mplane_normal\u001b[0m\u001b[0;34m)\u001b[0m\u001b[0;34m\u001b[0m\u001b[0;34m\u001b[0m\u001b[0m\n",
      "\u001b[0;32m<__array_function__ internals>\u001b[0m in \u001b[0;36minv\u001b[0;34m(*args, **kwargs)\u001b[0m\n",
      "\u001b[0;32m~/miniconda3/lib/python3.8/site-packages/numpy/linalg/linalg.py\u001b[0m in \u001b[0;36minv\u001b[0;34m(a)\u001b[0m\n\u001b[1;32m    538\u001b[0m     \u001b[0ma\u001b[0m\u001b[0;34m,\u001b[0m \u001b[0mwrap\u001b[0m \u001b[0;34m=\u001b[0m \u001b[0m_makearray\u001b[0m\u001b[0;34m(\u001b[0m\u001b[0ma\u001b[0m\u001b[0;34m)\u001b[0m\u001b[0;34m\u001b[0m\u001b[0;34m\u001b[0m\u001b[0m\n\u001b[1;32m    539\u001b[0m     \u001b[0m_assert_stacked_2d\u001b[0m\u001b[0;34m(\u001b[0m\u001b[0ma\u001b[0m\u001b[0;34m)\u001b[0m\u001b[0;34m\u001b[0m\u001b[0;34m\u001b[0m\u001b[0m\n\u001b[0;32m--> 540\u001b[0;31m     \u001b[0m_assert_stacked_square\u001b[0m\u001b[0;34m(\u001b[0m\u001b[0ma\u001b[0m\u001b[0;34m)\u001b[0m\u001b[0;34m\u001b[0m\u001b[0;34m\u001b[0m\u001b[0m\n\u001b[0m\u001b[1;32m    541\u001b[0m     \u001b[0mt\u001b[0m\u001b[0;34m,\u001b[0m \u001b[0mresult_t\u001b[0m \u001b[0;34m=\u001b[0m \u001b[0m_commonType\u001b[0m\u001b[0;34m(\u001b[0m\u001b[0ma\u001b[0m\u001b[0;34m)\u001b[0m\u001b[0;34m\u001b[0m\u001b[0;34m\u001b[0m\u001b[0m\n\u001b[1;32m    542\u001b[0m \u001b[0;34m\u001b[0m\u001b[0m\n",
      "\u001b[0;32m~/miniconda3/lib/python3.8/site-packages/numpy/linalg/linalg.py\u001b[0m in \u001b[0;36m_assert_stacked_square\u001b[0;34m(*arrays)\u001b[0m\n\u001b[1;32m    201\u001b[0m         \u001b[0mm\u001b[0m\u001b[0;34m,\u001b[0m \u001b[0mn\u001b[0m \u001b[0;34m=\u001b[0m \u001b[0ma\u001b[0m\u001b[0;34m.\u001b[0m\u001b[0mshape\u001b[0m\u001b[0;34m[\u001b[0m\u001b[0;34m-\u001b[0m\u001b[0;36m2\u001b[0m\u001b[0;34m:\u001b[0m\u001b[0;34m]\u001b[0m\u001b[0;34m\u001b[0m\u001b[0;34m\u001b[0m\u001b[0m\n\u001b[1;32m    202\u001b[0m         \u001b[0;32mif\u001b[0m \u001b[0mm\u001b[0m \u001b[0;34m!=\u001b[0m \u001b[0mn\u001b[0m\u001b[0;34m:\u001b[0m\u001b[0;34m\u001b[0m\u001b[0;34m\u001b[0m\u001b[0m\n\u001b[0;32m--> 203\u001b[0;31m             \u001b[0;32mraise\u001b[0m \u001b[0mLinAlgError\u001b[0m\u001b[0;34m(\u001b[0m\u001b[0;34m'Last 2 dimensions of the array must be square'\u001b[0m\u001b[0;34m)\u001b[0m\u001b[0;34m\u001b[0m\u001b[0;34m\u001b[0m\u001b[0m\n\u001b[0m\u001b[1;32m    204\u001b[0m \u001b[0;34m\u001b[0m\u001b[0m\n\u001b[1;32m    205\u001b[0m \u001b[0;32mdef\u001b[0m \u001b[0m_assert_finite\u001b[0m\u001b[0;34m(\u001b[0m\u001b[0;34m*\u001b[0m\u001b[0marrays\u001b[0m\u001b[0;34m)\u001b[0m\u001b[0;34m:\u001b[0m\u001b[0;34m\u001b[0m\u001b[0;34m\u001b[0m\u001b[0m\n",
      "\u001b[0;31mLinAlgError\u001b[0m: Last 2 dimensions of the array must be square"
     ]
    }
   ],
   "source": [
    "import numpy as np\n",
    "\n",
    "# Define intrinsic and extrinsic parameters of the camera\n",
    "focal_length = 50\n",
    "image_size = (640, 480)\n",
    "principal_point = (320, 240)\n",
    "camera_position = np.array([0, 0, 5])\n",
    "camera_orientation = np.array([0, 0, 0])\n",
    "\n",
    "# Define the 3D plane\n",
    "plane_normal = np.array([0, 0, 1])\n",
    "plane_point = np.array([0, 0, 0])\n",
    "\n",
    "# Compute the projection matrix\n",
    "K = np.array([[focal_length, 0, principal_point[0]], [0, focal_length, principal_point[1]], [0, 0, 1]])\n",
    "R = np.eye(3)\n",
    "t = -np.dot(R, camera_position)\n",
    "P = np.dot(K, np.hstack((R, t.reshape(3,1))))\n",
    "\n",
    "# Generate 2D meshgrid\n",
    "x_range = np.linspace(0, image_size[0], num=image_size[0])\n",
    "y_range = np.linspace(0, image_size[1], num=image_size[1])\n",
    "X, Y = np.meshgrid(x_range, y_range)\n",
    "\n",
    "# Project 2D meshgrid onto 3D plane\n",
    "points_2d = np.vstack((X.flatten(), Y.flatten(), np.ones(X.size)))\n",
    "points_3d = np.dot(np.linalg.inv(P), points_2d)\n",
    "t = -(plane_normal.dot(plane_point))\n",
    "d = (plane_normal.dot(points_3d) + t) / plane_normal.dot(plane_normal)\n",
    "points_3d_on_plane = points_3d - d*np.vstack((plane_normal, plane_normal, plane_normal))\n",
    "\n",
    "# Plot 3D points\n",
    "import matplotlib.pyplot as plt\n",
    "from mpl_toolkits.mplot3d import Axes3D\n",
    "\n",
    "fig = plt.figure()\n",
    "ax = fig.add_subplot(111, projection='3d')\n",
    "ax.scatter(points_3d_on_plane[0], points_3d_on_plane[1], points_3d_on_plane[2])\n",
    "plt.show()\n"
   ]
  },
  {
   "attachments": {},
   "cell_type": "markdown",
   "metadata": {},
   "source": [
    "## Intersection between a plane and a line"
   ]
  },
  {
   "cell_type": "code",
   "execution_count": null,
   "metadata": {},
   "outputs": [],
   "source": [
    "import numpy as np\n",
    "\n",
    "# Define the plane using 4 points\n",
    "p1 = np.array([0, 0, 0])\n",
    "p2 = np.array([2, 0, 0])\n",
    "p3 = np.array([2, 0, 2])\n",
    "p4 = np.array([0, 0, 2])\n",
    "\n",
    "n = np.cross(p2-p1, p3-p1)  # Compute normal vector of the plane\n",
    "\n",
    "# Define the line using two points\n",
    "q1 = np.array([1, 2, 1])\n",
    "q2 = np.array([1, 1, 1])\n",
    "\n",
    "d = q2 - q1  # Compute direction vector of the line\n",
    "\n",
    "# Compute scalar parameter t\n",
    "t = np.dot(n, p1 - q1) / np.dot(n, d)\n",
    "\n",
    "# Compute intersection point\n",
    "intersect = q1 + t * d\n",
    "\n",
    "print(\"Intersection point:\", intersect)\n"
   ]
  },
  {
   "attachments": {},
   "cell_type": "markdown",
   "metadata": {},
   "source": [
    "## Plot a rectangular parallelepiped"
   ]
  },
  {
   "cell_type": "code",
   "execution_count": 29,
   "metadata": {},
   "outputs": [
    {
     "data": {
      "image/png": "[encoded data removed]",
      "text/plain": [
       "<Figure size 432x288 with 1 Axes>"
      ]
     },
     "metadata": {
      "needs_background": "light"
     },
     "output_type": "display_data"
    }
   ],
   "source": [
    "import numpy as np\n",
    "import matplotlib.pyplot as plt\n",
    "from mpl_toolkits.mplot3d import Axes3D\n",
    "\n",
    "# Define the 8 vertices of the rectangular parallelepiped\n",
    "vertices = np.array([\n",
    "    (-0.5, -0.5, 0), \n",
    "    (-0.5, 0.5, 0), \n",
    "    (0.5, 0.5, 0), \n",
    "    (0.5, -0.5, 0),     \n",
    "    (-0.5, -0.5, 0.1),\n",
    "    (-0.5, 0.5, 0.1),\n",
    "    (0.5, 0.5, 0.1),\n",
    "    (0.5, -0.5, 0.1)      \n",
    "    ])\n",
    "\n",
    "# Define the 12 edges of the rectangular parallelepiped\n",
    "edges = np.array([(0, 1), (1, 2), (2, 3), (3, 0), (4, 5), (5, 6), (6, 7), (7, 4), (0, 4), (1, 5), (2, 6), (3, 7)])\n",
    "\n",
    "# Plot the rectangular parallelepiped\n",
    "fig = plt.figure()\n",
    "ax = fig.add_subplot(111, projection='3d')\n",
    "for edge in edges:\n",
    "    ax.plot3D(vertices[edge, 0], vertices[edge, 1], vertices[edge, 2], 'blue')\n",
    "ax.set_xlabel('X')\n",
    "ax.set_ylabel('Y')\n",
    "ax.set_zlabel('Z')\n",
    "plt.show()"
   ]
  }
 ],
 "metadata": {
  "kernelspec": {
   "display_name": "base",
   "language": "python",
   "name": "python3"
  },
  "language_info": {
   "codemirror_mode": {
    "name": "ipython",
    "version": 3
   },
   "file_extension": ".py",
   "mimetype": "text/x-python",
   "name": "python",
   "nbconvert_exporter": "python",
   "pygments_lexer": "ipython3",
   "version": "3.8.10"
  },
  "orig_nbformat": 4
 },
 "nbformat": 4,
 "nbformat_minor": 2
}
