{
 "cells": [
  {
   "attachments": {},
   "cell_type": "markdown",
   "metadata": {},
   "source": [
    "## Vertices of a rectangle"
   ]
  },
  {
   "cell_type": "code",
   "execution_count": 2,
   "metadata": {},
   "outputs": [
    {
     "name": "stdout",
     "output_type": "stream",
     "text": [
      "[0. 2. 1.] [0. 2. 0.] [0. 0. 0.] [0. 0. 1.]\n"
     ]
    }
   ],
   "source": [
    "# This code computes the vertices of a rectangle given a normal vector to the plane and one point on the plane\n",
    "\n",
    "import numpy as np\n",
    "\n",
    "# Define the normal vector and a point on the plane\n",
    "normal = np.array([1, 0, 0])\n",
    "point_on_plane = np.array([0, 0, 0])\n",
    "\n",
    "# Normalize the normal vector\n",
    "normal = normal / np.linalg.norm(normal)\n",
    "\n",
    "# Compute two orthogonal vectors that lie on the plane\n",
    "v1 = np.array([0, 1, 0])\n",
    "v2 = np.cross(normal, v1)\n",
    "v2 /= np.linalg.norm(v2)\n",
    "v1 = np.cross(v2, normal)\n",
    "\n",
    "# Define the length and width of the rectangle\n",
    "length = 2\n",
    "width = 1\n",
    "\n",
    "# Compute the half-length and half-width\n",
    "half_length = length / 2\n",
    "half_width = width / 2\n",
    "\n",
    "# Compute the center point of the rectangle\n",
    "center = point_on_plane + half_length * v1 + half_width * v2\n",
    "\n",
    "# Compute the vertices of the rectangle\n",
    "vertex1 = center + half_length * v1 + half_width * v2\n",
    "vertex2 = center + half_length * v1 - half_width * v2\n",
    "vertex3 = center - half_length * v1 - half_width * v2\n",
    "vertex4 = center - half_length * v1 + half_width * v2\n",
    "\n",
    "print(vertex1, vertex2, vertex3, vertex4)\n"
   ]
  },
  {
   "attachments": {},
   "cell_type": "markdown",
   "metadata": {},
   "source": [
    "## Discretization"
   ]
  },
  {
   "cell_type": "code",
   "execution_count": 1,
   "metadata": {},
   "outputs": [
    {
     "name": "stdout",
     "output_type": "stream",
     "text": [
      "[[[1. 1.]\n",
      "  [3. 1.]\n",
      "  [5. 1.]\n",
      "  [7. 1.]\n",
      "  [9. 1.]]\n",
      "\n",
      " [[1. 3.]\n",
      "  [3. 3.]\n",
      "  [5. 3.]\n",
      "  [7. 3.]\n",
      "  [9. 3.]]\n",
      "\n",
      " [[1. 5.]\n",
      "  [3. 5.]\n",
      "  [5. 5.]\n",
      "  [7. 5.]\n",
      "  [9. 5.]]\n",
      "\n",
      " [[1. 7.]\n",
      "  [3. 7.]\n",
      "  [5. 7.]\n",
      "  [7. 7.]\n",
      "  [9. 7.]]\n",
      "\n",
      " [[1. 9.]\n",
      "  [3. 9.]\n",
      "  [5. 9.]\n",
      "  [7. 9.]\n",
      "  [9. 9.]]]\n"
     ]
    }
   ],
   "source": [
    "import numpy as np\n",
    "\n",
    "# Define the size of the continuous plane\n",
    "width = 10\n",
    "height = 10\n",
    "\n",
    "# Define the size of the grid of cells\n",
    "n_cells_x = 5\n",
    "n_cells_y = 5\n",
    "\n",
    "# Compute the size of each cell\n",
    "cell_size_x = width / n_cells_x\n",
    "cell_size_y = height / n_cells_y\n",
    "\n",
    "# Create a grid of cell centers\n",
    "cell_centers_x = np.linspace(cell_size_x/2, width-cell_size_x/2, n_cells_x)\n",
    "cell_centers_y = np.linspace(cell_size_y/2, height-cell_size_y/2, n_cells_y)\n",
    "cell_centers = np.meshgrid(cell_centers_x, cell_centers_y)\n",
    "cell_centers = np.stack(cell_centers, axis=-1)\n",
    "\n",
    "# Display the cell centers\n",
    "print(cell_centers)\n"
   ]
  }
 ],
 "metadata": {
  "kernelspec": {
   "display_name": "base",
   "language": "python",
   "name": "python3"
  },
  "language_info": {
   "codemirror_mode": {
    "name": "ipython",
    "version": 3
   },
   "file_extension": ".py",
   "mimetype": "text/x-python",
   "name": "python",
   "nbconvert_exporter": "python",
   "pygments_lexer": "ipython3",
   "version": "3.8.10"
  },
  "orig_nbformat": 4
 },
 "nbformat": 4,
 "nbformat_minor": 2
}
