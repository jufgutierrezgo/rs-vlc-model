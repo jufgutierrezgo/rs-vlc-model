{
 "cells": [
  {
   "attachments": {},
   "cell_type": "markdown",
   "metadata": {},
   "source": [
    "## Vertices of the rectangle"
   ]
  },
  {
   "cell_type": "code",
   "execution_count": 1,
   "metadata": {},
   "outputs": [],
   "source": [
    "# This code computes the vertices of a rectangle given a normal vector to the plane and one point on the plane\n",
    "\n",
    "import numpy as np\n",
    "\n",
    "# Define the normal vector and a point on the plane\n",
    "normal = np.array([1, 0, 0])\n",
    "point_on_plane = np.array([0, 0, 0])\n",
    "\n",
    "# Normalize the normal vector\n",
    "normal = normal / np.linalg.norm(normal)\n",
    "\n",
    "# Compute two orthogonal vectors that lie on the plane\n",
    "v1 = np.array([0, 1, 0])\n",
    "v2 = np.cross(normal, v1)\n",
    "v2 /= np.linalg.norm(v2)\n",
    "v1 = np.cross(v2, normal)\n",
    "\n",
    "# Define the length and width of the rectangle\n",
    "length = 2\n",
    "width = 1\n",
    "\n",
    "# Compute the half-length and half-width\n",
    "half_length = length / 2\n",
    "half_width = width / 2\n",
    "\n",
    "# Compute the center point of the rectangle\n",
    "center = point_on_plane + half_length * v1 + half_width * v2\n",
    "\n",
    "# Compute the vertices of the rectangle\n",
    "vertex1 = center + half_length * v1 + half_width * v2\n",
    "vertex2 = center + half_length * v1 - half_width * v2\n",
    "vertex3 = center - half_length * v1 - half_width * v2\n",
    "vertex4 = center - half_length * v1 + half_width * v2\n",
    "\n",
    "print(vertex1, vertex2, vertex3, vertex4)\n"
   ]
  }
 ],
 "metadata": {
  "kernelspec": {
   "display_name": "base",
   "language": "python",
   "name": "python3"
  },
  "language_info": {
   "codemirror_mode": {
    "name": "ipython",
    "version": 3
   },
   "file_extension": ".py",
   "mimetype": "text/x-python",
   "name": "python",
   "nbconvert_exporter": "python",
   "pygments_lexer": "ipython3",
   "version": "3.8.10"
  },
  "orig_nbformat": 4
 },
 "nbformat": 4,
 "nbformat_minor": 2
}
