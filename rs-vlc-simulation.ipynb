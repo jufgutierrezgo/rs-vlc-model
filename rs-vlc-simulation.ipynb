{
 "cells": [
  {
   "attachments": {},
   "cell_type": "markdown",
   "metadata": {},
   "source": [
    "# SIMULATION OF NLOS-VLC SYSTEM USING THE ROLLING SHUTTER MECHANISM"
   ]
  },
  {
   "attachments": {},
   "cell_type": "markdown",
   "metadata": {},
   "source": [
    "Import the transmitter, surface and camera objects, as well as numpy library."
   ]
  },
  {
   "cell_type": "code",
   "execution_count": null,
   "metadata": {},
   "outputs": [],
   "source": [
    "#Import module Transmitter\n",
    "from transmitter import Transmitter as Transmitter\n",
    "\n",
    "from surface import Surface as Surface\n",
    "\n",
    "from camera import Camera as Camera\n",
    "\n",
    "import numpy as np\n"
   ]
  },
  {
   "attachments": {},
   "cell_type": "markdown",
   "metadata": {},
   "source": [
    "The trasmitter is defined as a Trasmitter type object from eight input parameters"
   ]
  },
  {
   "cell_type": "code",
   "execution_count": null,
   "metadata": {},
   "outputs": [],
   "source": [
    "transmitter = Transmitter(\n",
    "        \"Led1\",\n",
    "        position=[2.5, 2.5, 3],\n",
    "        normal=[0, 0, -1],\n",
    "        mlambert=1,\n",
    "        wavelengths=[620, 530, 475],\n",
    "        fwhm=[20, 45, 20],\n",
    "        modulation='ieee16',\n",
    "        luminous_flux=5000\n",
    "    )\n",
    "transmitter.plot_spd_normalized()\n",
    "\n"
   ]
  },
  {
   "attachments": {},
   "cell_type": "markdown",
   "metadata": {},
   "source": [
    "The surface is defined from eight imputs parametes"
   ]
  },
  {
   "cell_type": "code",
   "execution_count": null,
   "metadata": {},
   "outputs": [],
   "source": [
    "surface = Surface(\n",
    "    name=\"surfacePlaster\",\n",
    "    position=[0, 0, 1],\n",
    "    normal=[0, 0, 1],\n",
    "    reflectance='plaster',\n",
    "    vertex1=[0.0, 1.0, 0.0],\n",
    "    vertex2=[2.0, 1.0, 0.0],\n",
    "    vertex3=[2.0, 1.0, 2.0],\n",
    "    vertex4=[0.0, 1.0, 2.0]\n",
    "    )\n",
    "surface.plot_reflectance()\n",
    "surface._group_vertices()\n",
    "\n"
   ]
  },
  {
   "attachments": {},
   "cell_type": "markdown",
   "metadata": {},
   "source": [
    "The camera is defined from a set of 13 input parameters"
   ]
  },
  {
   "cell_type": "code",
   "execution_count": null,
   "metadata": {},
   "outputs": [],
   "source": [
    "FOCAL_LENGTH = 3  # focal length\n",
    "PX= 3  # principal point x-coordinate\n",
    "PY= 2  # principal point y-coordinate\n",
    "MX = 1.0  # number of pixels per unit distance in image coordinates in x direction\n",
    "MY = 1.0  # number of pixels per unit distance in image coordinates in y direction\n",
    "#THETA_X = 0  # roll angle\n",
    "#THETA_Y = 0.0  # pitch angle\n",
    "#THETA_Z = 0  # yaw angle\n",
    "THETA_X = np.pi / 2.0  # roll angle\n",
    "THETA_Y = np.pi  # pitch angle\n",
    "THETA_Z = np.pi  # yaw angle\n",
    "C = np.array([3, -5, 2])  # camera centre\n",
    "IMAGE_HEIGTH = 4\n",
    "IMAGE_WIDTH = 6\n",
    "RESOLUTION_HEIGTH = 800\n",
    "RESOLUTION_WIDTH = 1200\n",
    "\n",
    "\n",
    "camera = Camera(\n",
    "    name=\"camera1\",\n",
    "    focal_length=FOCAL_LENGTH,\n",
    "    px=PX,\n",
    "    py=PY,\n",
    "    mx=MX,\n",
    "    my=MY,\n",
    "    theta_x=THETA_X,\n",
    "    theta_y=THETA_Y,\n",
    "    theta_z=THETA_Z,\n",
    "    centre=C,\n",
    "    image_heigth=IMAGE_HEIGTH,\n",
    "    image_width=IMAGE_WIDTH,\n",
    "    resolution_h=RESOLUTION_HEIGTH,\n",
    "    resolution_w=RESOLUTION_WIDTH,\n",
    "    surface=surface\n",
    ")\n",
    "\n",
    "\n",
    "\n"
   ]
  },
  {
   "attachments": {},
   "cell_type": "markdown",
   "metadata": {},
   "source": []
  }
 ],
 "metadata": {
  "kernelspec": {
   "display_name": "base",
   "language": "python",
   "name": "python3"
  },
  "language_info": {
   "codemirror_mode": {
    "name": "ipython",
    "version": 3
   },
   "file_extension": ".py",
   "mimetype": "text/x-python",
   "name": "python",
   "nbconvert_exporter": "python",
   "pygments_lexer": "ipython3",
   "version": "3.8.10"
  },
  "orig_nbformat": 4
 },
 "nbformat": 4,
 "nbformat_minor": 2
}
